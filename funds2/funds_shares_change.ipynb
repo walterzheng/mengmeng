{
 "cells": [
  {
   "cell_type": "code",
   "execution_count": 2,
   "metadata": {
    "collapsed": true
   },
   "outputs": [],
   "source": [
    "import os\n",
    "import xlrd\n",
    "import collections\n",
    "import re\n",
    "import xlsxwriter \n",
    "import datetime\n",
    "import math"
   ]
  },
  {
   "cell_type": "code",
   "execution_count": 3,
   "metadata": {
    "collapsed": true
   },
   "outputs": [],
   "source": [
    "half_list = [u\"%dH%d\"%(y_, h_) for y_ in xrange(2004,2017) for h_ in xrange(1,3)]\n",
    "half_date_list = [datetime.datetime(year=y, month=m, day=1)  for y in xrange(2004, 2018) for m in (1,7)]\n",
    "half_list.append(u\"2017H1\")\n",
    "symbol_ro = re.compile('^\\d{6}$')\n",
    "hy_ro = re.compile('^\\d{4}H[1|2]$')"
   ]
  },
  {
   "cell_type": "code",
   "execution_count": 20,
   "metadata": {
    "collapsed": true
   },
   "outputs": [],
   "source": [
    "funds_excel = xlrd.open_workbook('fund_stock_holding_test.xlsx').sheet_by_index(0)"
   ]
  },
  {
   "cell_type": "code",
   "execution_count": 3,
   "metadata": {
    "collapsed": true
   },
   "outputs": [],
   "source": [
    "rtn_dict2 = lambda : collections.defaultdict(dict)\n",
    "rtn_dict1 = lambda : collections.defaultdict(rtn_dict2)"
   ]
  },
  {
   "cell_type": "code",
   "execution_count": 22,
   "metadata": {},
   "outputs": [
    {
     "name": "stdout",
     "output_type": "stream",
     "text": [
      "共加载936只基金的数据\n"
     ]
    }
   ],
   "source": [
    "funds_data = collections.defaultdict(rtn_dict2)\n",
    "funds_disclusure_data = collections.defaultdict(lambda :collections.defaultdict(set))\n",
    "for i in xrange(3, funds_excel.nrows):\n",
    "    funds_no = funds_excel.cell(i, 0).value\n",
    "    funds_hy = funds_excel.cell(i, 2).value\n",
    "    funds_symbol = funds_excel.cell(i, 6).value\n",
    "    funds_shares = funds_excel.cell(i, 8).value\n",
    "    if symbol_ro.match(funds_no) and symbol_ro.match(funds_symbol) and hy_ro.match(funds_hy) and funds_shares:\n",
    "        funds_data[funds_no][funds_symbol][funds_hy] = float(funds_shares)\n",
    "        funds_disclusure_data[funds_no][funds_hy].add(funds_symbol)\n",
    "    else:\n",
    "        print u\"第%d行的格式有问题，%s,%s,%s,%s\"%(i, (funds_no), (funds_hy), (funds_symbol), unicode(funds_shares))\n",
    "print \"共加载%d只基金的数据\"%len(funds_data)"
   ]
  },
  {
   "cell_type": "code",
   "execution_count": 4,
   "metadata": {},
   "outputs": [
    {
     "name": "stdout",
     "output_type": "stream",
     "text": [
      "2018H2\n",
      "2019H1\n",
      "2017H2\n",
      "2018H1\n",
      "2018-01-01 00:00:00\n",
      "2018-07-01 00:00:00\n"
     ]
    }
   ],
   "source": [
    "def hy_add(hy_):\n",
    "    year_ = int(hy_[0:4])\n",
    "    half_ = int(hy_[-1])\n",
    "    if half_ == 1:\n",
    "        return u\"%dH%d\"%(year_, 2)\n",
    "    else:\n",
    "        return u\"%dH%d\"%(year_+1,1)\n",
    "\n",
    "def hy_minus(hy_):\n",
    "    year_ = int(hy_[0:4])\n",
    "    half_ = int(hy_[-1])\n",
    "    if half_ == 1:\n",
    "        return u\"%dH%d\"%(year_-1, 2) \n",
    "    else:\n",
    "        return u\"%dH%d\"%(year_, 1)\n",
    "    \n",
    "def hy_2_datetime(hy_):\n",
    "    year_ = int(hy_[0:4])\n",
    "    half_ = int(hy_[-1])\n",
    "    if half_ == 1:\n",
    "        return datetime.datetime(year=year_, month=1, day=1)\n",
    "    else:\n",
    "        return datetime.datetime(year=year_, month=7, day=1)\n",
    "    \n",
    "print hy_add(\"2018H1\")\n",
    "print hy_add(\"2018H2\")\n",
    "print hy_minus(\"2018H1\")\n",
    "print hy_minus(\"2018H2\")\n",
    "print hy_2_datetime(\"2018H1\")\n",
    "print hy_2_datetime(\"2018H2\")"
   ]
  },
  {
   "cell_type": "code",
   "execution_count": 27,
   "metadata": {},
   "outputs": [],
   "source": [
    "def calc_share_change(data_):\n",
    "    rtn_ = {}\n",
    "    for idx_, hy_ in enumerate(half_list):\n",
    "        pre_hy_ = hy_minus(hy_)\n",
    "        if pre_hy_ in data_ and hy_ in data_:\n",
    "            if data_[hy_] > data_[pre_hy_]:\n",
    "                action_ = u\"buy\"\n",
    "            elif data_[hy_] < data_[pre_hy_]:\n",
    "                action_ = u\"sold\"\n",
    "            else:\n",
    "                action_ = u\"nothing\"\n",
    "            rtn_[hy_] = ((data_[hy_] - data_[pre_hy_]) / data_[pre_hy_], action_)\n",
    "        elif pre_hy_ not in data_ and hy_ in data_:\n",
    "            rtn_[hy_] = ((data_[hy_] - 1), u\"startup\")\n",
    "        elif pre_hy_ in data_ and hy_ not in data_:\n",
    "            rtn_[hy_] = (-1.0, u\"clearup\")\n",
    "        if pre_hy_ in data_ and hy_ in data_ and ((data_[hy_] / data_[pre_hy_]) > 10 or data_[pre_hy_] <= 100):\n",
    "            # 如果前期小于100股，或者后期/前期>100，认为是个startup\n",
    "            rtn_[hy_] = ((data_[hy_] - 1), u\"startup\")\n",
    "    return rtn_\n",
    "\n",
    "def calc_share_chage_log(date_):\n",
    "    rtn_ = {}\n",
    "    for idx_, hy_ in enumerate(half_list):\n",
    "        pre_hy_ = hy_minus(hy_)\n",
    "        if pre_hy_ in data_ and hy_ in data_:\n",
    "            if data_[hy_] > data_[pre_hy_]:\n",
    "                action_ = u\"buy\"\n",
    "            elif data_[hy_] < data_[pre_hy_]:\n",
    "                action_ = u\"sold\"\n",
    "            else:\n",
    "                action_ = u\"nothing\"\n",
    "            rtn_[hy_] = (math.log(data_[hy_]) - math.log(data_[pre_hy_]), action_)\n",
    "        elif pre_hy_ not in data_ and hy_ in data_:\n",
    "            rtn_[hy_] = (math.log(data_[hy_]), u\"startup\")\n",
    "        elif pre_hy_ in data_ and hy_ not in data_:\n",
    "            rtn_[hy_] = (-math.log(data_[pre_hy_]), u\"clearup\")\n",
    "    return rtn_\n",
    "\n",
    "if os.path.exists(u\"funds_shares_change.xlsx\"):\n",
    "    os.remove(u\"funds_shares_change.xlsx\")\n",
    "\n",
    "workbook = xlsxwriter.Workbook(u'funds_shares_change.xlsx')\n",
    "worksheet = workbook.add_worksheet()\n",
    "\n",
    "row_idx = 0\n",
    "for funds_no in funds_data:\n",
    "    for funds_symbol in funds_data[funds_no]:\n",
    "        share_change = calc_share_change(funds_data[funds_no][funds_symbol])\n",
    "        for hy in sorted(share_change.keys()):\n",
    "            rate, action = share_change[hy]\n",
    "            worksheet.write(row_idx, 0, funds_no)\n",
    "            worksheet.write(row_idx, 1, funds_symbol)\n",
    "            worksheet.write(row_idx, 2, hy)\n",
    "            worksheet.write(row_idx, 3, action)\n",
    "            worksheet.write(row_idx, 4, rate)\n",
    "            row_idx+=1\n",
    "            \n",
    "workbook.close()"
   ]
  },
  {
   "cell_type": "code",
   "execution_count": 14,
   "metadata": {},
   "outputs": [
    {
     "name": "stdout",
     "output_type": "stream",
     "text": [
      "defaultdict(<type 'dict'>, {u'2005H1': {}, u'2013H1': {}, u'2013H2': {}, u'2005H2': {}, u'2011H2': {}, u'2011H1': {}, u'2010H2': {}, u'2010H1': {}, u'2008H1': {}, u'2008H2': {}, u'2009H1': {}, u'2009H2': {}, u'2015H2': 78400.0, u'2015H1': {}, u'2014H2': {}, u'2014H1': {}, u'2012H1': {}, u'2012H2': {}, u'2007H2': {}, u'2007H1': {}, u'2004H1': {}, u'2004H2': {}, u'2003H2': {}, u'2006H2': {}, u'2006H1': {}})\n"
     ]
    }
   ],
   "source": [
    "print funds_data[u'000828'][u'000411']"
   ]
  },
  {
   "cell_type": "code",
   "execution_count": 8,
   "metadata": {
    "collapsed": true
   },
   "outputs": [],
   "source": [
    "if os.path.exists(u\"funds_Disclosure.xlsx\"):\n",
    "    os.remove(u\"funds_Disclosure.xlsx\")\n",
    "\n",
    "workbook = xlsxwriter.Workbook(u'funds_Disclosure.xlsx')\n",
    "worksheet = workbook.add_worksheet()\n",
    "\n",
    "row_idx = 0\n",
    "for funds_no in funds_disclusure_data:\n",
    "    for hy in sorted(funds_disclusure_data[funds_no].keys()):\n",
    "        worksheet.write(row_idx, 0, funds_no)\n",
    "        worksheet.write(row_idx, 1, hy)\n",
    "        worksheet.write(row_idx, 2, len(funds_disclusure_data[funds_no][hy]))\n",
    "        row_idx += 1"
   ]
  },
  {
   "cell_type": "code",
   "execution_count": 9,
   "metadata": {
    "collapsed": true
   },
   "outputs": [],
   "source": [
    "if os.path.exists(u\"funds_shares_change1.xlsx\"):\n",
    "    os.remove(u\"funds_shares_change1.xlsx\")\n",
    "\n",
    "workbook = xlsxwriter.Workbook(u'funds_shares_change1.xlsx')\n",
    "worksheet = workbook.add_worksheet()\n",
    "\n",
    "row_idx = 0\n",
    "for funds_no in funds_data:\n",
    "    for funds_symbol in funds_data[funds_no]:\n",
    "        share_change = calc_share_change(funds_data[funds_no][funds_symbol])\n",
    "        for hy in sorted(share_change.keys()):\n",
    "            rate, action = share_change[hy]\n",
    "            if action in (\"buy\", \"sold\", \"nothing\"):\n",
    "                worksheet.write(row_idx, 0, funds_no)\n",
    "                worksheet.write(row_idx, 1, funds_symbol)\n",
    "                worksheet.write(row_idx, 2, hy)\n",
    "                worksheet.write(row_idx, 3, action)\n",
    "                worksheet.write(row_idx, 4, rate)\n",
    "                row_idx+=1\n",
    "            \n",
    "workbook.close()"
   ]
  },
  {
   "cell_type": "code",
   "execution_count": 15,
   "metadata": {
    "collapsed": true
   },
   "outputs": [],
   "source": [
    "sheet4=xlrd.open_workbook('herding tendency caculation.xlsx').sheet_by_index(0)\n",
    "\n",
    "d4 = collections.defaultdict(dict)\n",
    "d4_hending = collections.defaultdict(dict)\n",
    "\n",
    "for i in xrange(1, sheet4.nrows):\n",
    "    symbol = sheet4.cell(i,1).value\n",
    "    hy = sheet4.cell(i,2).value\n",
    "    if symbol_ro.match(symbol) and hy_ro.match(hy) \\\n",
    "        and sheet4.cell(i,3).ctype==2 and sheet4.cell(i,4).ctype==2 and sheet4.cell(i,5).ctype==2 and sheet4.cell(i,6).ctype==2:\n",
    "        d4[symbol][hy] = [sheet4.cell(i,3).value,sheet4.cell(i,4).value,sheet4.cell(i,5).value,sheet4.cell(i,6).value,sheet4.cell(i,0).value]\n",
    "        d4_hending[symbol][hy] = sheet4.cell(i,3).value\n",
    "\n"
   ]
  },
  {
   "cell_type": "code",
   "execution_count": 20,
   "metadata": {
    "collapsed": true
   },
   "outputs": [],
   "source": [
    "for symbol in d4:\n",
    "    for idx_, hy_ in enumerate(half_list):\n",
    "        if hy_ not in d4[symbol]:\n",
    "            continue\n",
    "        pre_hy_ = hy_minus(hy_)\n",
    "        pre_pre_hy_ = hy_minus(pre_hy_)\n",
    "        \n",
    "        fengzi_ = d4_hending[symbol][hy_]\n",
    "        fengmu_ = 1.0\n",
    "        counter = 2.0\n",
    "        \n",
    "        while pre_hy_ in d4_hending[symbol]:\n",
    "            fengzi_ += (1/counter) * d4_hending[symbol][pre_hy_]\n",
    "            fengmu_ += (1/counter)\n",
    "            \n",
    "            pre_hy_ = hy_minus(pre_hy_)\n",
    "            counter += 1\n",
    "            \n",
    "        d4[symbol][hy_][0] = fengzi_ / fengmu_"
   ]
  },
  {
   "cell_type": "code",
   "execution_count": 22,
   "metadata": {},
   "outputs": [
    {
     "name": "stdout",
     "output_type": "stream",
     "text": [
      "done\n"
     ]
    }
   ],
   "source": [
    "if os.path.exists(u\"herding tendency caculation1.xlsx\"):\n",
    "    os.remove(u\"herding tendency caculation1.xlsx\")\n",
    "\n",
    "workbook = xlsxwriter.Workbook(u'herding tendency caculation1.xlsx')\n",
    "worksheet = workbook.add_worksheet() \n",
    "\n",
    "wt_idx = 0\n",
    "for symbol in d4:\n",
    "    for hy_ in d4[symbol]:\n",
    "        worksheet.write(wt_idx, 0, d4[symbol][hy_][4])\n",
    "        worksheet.write(wt_idx, 1, symbol)\n",
    "        worksheet.write(wt_idx, 2, hy_)\n",
    "        worksheet.write(wt_idx, 3, d4[symbol][hy_][0])\n",
    "        worksheet.write(wt_idx, 4, d4[symbol][hy_][1])\n",
    "        worksheet.write(wt_idx, 5, d4[symbol][hy_][2])\n",
    "        worksheet.write(wt_idx, 6, d4[symbol][hy_][3])\n",
    "        worksheet.write(wt_idx, 7, d4_hending[symbol][hy_])\n",
    "        wt_idx += 1\n",
    "\n",
    "workbook.close()\n",
    "\n",
    "print \"done\""
   ]
  },
  {
   "cell_type": "code",
   "execution_count": 23,
   "metadata": {},
   "outputs": [
    {
     "name": "stdout",
     "output_type": "stream",
     "text": [
      "done\n"
     ]
    }
   ],
   "source": [
    "sheet5=xlrd.open_workbook('herding tendency caculation_standardize.xlsx').sheet_by_index(0)\n",
    "\n",
    "d5 = collections.defaultdict(dict)\n",
    "d5_hending = collections.defaultdict(dict)\n",
    "\n",
    "for i in xrange(1, sheet5.nrows):\n",
    "    symbol = sheet5.cell(i,1).value\n",
    "    hy = sheet5.cell(i,2).value\n",
    "    if symbol_ro.match(symbol) and hy_ro.match(hy) \\\n",
    "        and sheet5.cell(i,3).ctype==2 and sheet5.cell(i,4).ctype==2 and \\\n",
    "        sheet5.cell(i,5).ctype==2 and sheet5.cell(i,6).ctype==2 and sheet5.cell(i,7).ctype==2:\n",
    "        d5[symbol][hy] = [sheet5.cell(i,3).value,sheet5.cell(i,4).value,sheet5.cell(i,5).value,\\\n",
    "                          sheet5.cell(i,6).value,sheet5.cell(i,7).value,sheet5.cell(i,0).value]\n",
    "        d5_hending[symbol][hy] = sheet5.cell(i,3).value\n",
    "\n",
    "\n",
    "for symbol in d5:\n",
    "    for idx_, hy_ in enumerate(half_list):\n",
    "        if hy_ not in d5[symbol]:\n",
    "            continue\n",
    "        pre_hy_ = hy_minus(hy_)\n",
    "        pre_pre_hy_ = hy_minus(pre_hy_)\n",
    "        \n",
    "        fengzi_ = d5_hending[symbol][hy_]\n",
    "        fengmu_ = 1.0\n",
    "        counter = 2.0\n",
    "        \n",
    "        while pre_hy_ in d5_hending[symbol]:\n",
    "            fengzi_ += (1/counter) * d5_hending[symbol][pre_hy_]\n",
    "            fengmu_ += (1/counter)\n",
    "            \n",
    "            pre_hy_ = hy_minus(pre_hy_)\n",
    "            counter += 1\n",
    "            \n",
    "        d5[symbol][hy_][0] = fengzi_ / fengmu_\n",
    "        \n",
    "if os.path.exists(u\"herding tendency caculation_standardize1.xlsx\"):\n",
    "    os.remove(u\"herding tendency caculation_standardize1.xlsx\")\n",
    "\n",
    "workbook = xlsxwriter.Workbook(u'herding tendency caculation_standardize1.xlsx')\n",
    "worksheet = workbook.add_worksheet() \n",
    "\n",
    "wt_idx = 0\n",
    "for symbol in d5:\n",
    "    for hy_ in d5[symbol]:\n",
    "        worksheet.write(wt_idx, 0, d5[symbol][hy_][5])\n",
    "        worksheet.write(wt_idx, 1, symbol)\n",
    "        worksheet.write(wt_idx, 2, hy_)\n",
    "        worksheet.write(wt_idx, 3, d5[symbol][hy_][0])\n",
    "        worksheet.write(wt_idx, 4, d5[symbol][hy_][1])\n",
    "        worksheet.write(wt_idx, 5, d5[symbol][hy_][2])\n",
    "        worksheet.write(wt_idx, 6, d5[symbol][hy_][3])\n",
    "        worksheet.write(wt_idx, 7, d5[symbol][hy_][4])\n",
    "        worksheet.write(wt_idx, 8, d5_hending[symbol][hy_])\n",
    "        wt_idx += 1\n",
    "\n",
    "workbook.close()\n",
    "\n",
    "print \"done\""
   ]
  },
  {
   "cell_type": "code",
   "execution_count": 5,
   "metadata": {
    "collapsed": true
   },
   "outputs": [],
   "source": [
    "jingli_excel = xlrd.open_workbook(u'基金经理信息.xlsx').sheet_by_index(0)\n",
    "jingli_info = {}\n",
    "for i in xrange(1, jingli_excel.nrows):\n",
    "    jingli_info[jingli_excel.cell(i, 0).value] = jingli_excel.row(i)"
   ]
  },
  {
   "cell_type": "code",
   "execution_count": 6,
   "metadata": {
    "collapsed": true
   },
   "outputs": [],
   "source": [
    "symbol1_ro = re.compile(u\"^(\\d{6})\\.OF$\")\n",
    "\n",
    "jingli_jijin_tmp_info = collections.defaultdict(list)\n",
    "jingli_jijin_start_date = collections.defaultdict(lambda : collections.defaultdict(list))\n",
    "\n",
    "jingli_jijin_excel = xlrd.open_workbook(u'基金历任基金经理明细表.xlsx').sheet_by_index(0)\n",
    "for i in xrange(1, jingli_jijin_excel.nrows):\n",
    "    symbol = symbol1_ro.match(jingli_jijin_excel.cell(i, 0).value).groups()[0]\n",
    "    name = jingli_jijin_excel.cell(i, 5).value\n",
    "    start_date = datetime.datetime.strptime(jingli_jijin_excel.cell(i, 7).value, \"%Y-%m-%d\")\n",
    "    if jingli_jijin_excel.cell(i, 8).value:\n",
    "        end_date = datetime.datetime.strptime(jingli_jijin_excel.cell(i, 8).value, \"%Y-%m-%d\")\n",
    "    else:\n",
    "        end_date = datetime.datetime.today()\n",
    "    jingli_jijin_tmp_info[symbol].append((name,  start_date, end_date))\n",
    "    jingli_jijin_start_date[symbol][name].append(start_date)\n",
    "            "
   ]
  },
  {
   "cell_type": "code",
   "execution_count": 41,
   "metadata": {},
   "outputs": [],
   "source": [
    "debug_symbol = u'002386'\n",
    "debug_hy = u'2017H1'\n",
    "\n",
    "jingli_jijin_info = collections.defaultdict(dict)\n",
    "for symbol in jingli_jijin_tmp_info:\n",
    "    for i in xrange(len(half_date_list)-1):\n",
    "        hy = u\"%dH%d\"%(half_date_list[i].year, half_date_list[i].month/7+1)\n",
    "        flag_list = [1 if (jingli[1] <= half_date_list[i] and (half_date_list[i+1] - datetime.timedelta(days=1)) <= jingli[2]) else 0 \\\n",
    "                     for jingli in jingli_jijin_tmp_info[symbol]]\n",
    "        flag_list_left = [1 if (jingli[1] <= half_date_list[i] \\\n",
    "                                and (half_date_list[i+1] - datetime.timedelta(days=1)) > jingli[2] and jingli[2] >= half_date_list[i]) else 0 \\\n",
    "                          for jingli in jingli_jijin_tmp_info[symbol]]\n",
    "        flag_list_right = [1 if (jingli[1] > half_date_list[i] and jingli[1] <= (half_date_list[i+1] - datetime.timedelta(days=1)) \\\n",
    "                                 and (half_date_list[i+1] - datetime.timedelta(days=1)) <= jingli[2]) else 0 \\\n",
    "                           for jingli in jingli_jijin_tmp_info[symbol]]\n",
    "        if symbol == debug_symbol and hy == debug_hy:\n",
    "            print flag_list\n",
    "            print flag_list_left\n",
    "            print flag_list_right\n",
    "        if sum(flag_list) == 1:\n",
    "            # 只有一个经理全覆盖半年\n",
    "            this_name = [jingli_jijin_tmp_info[symbol][i][0] for i in xrange(len(flag_list)) if flag_list[i] == 1]\n",
    "            jingli_jijin_info[symbol][hy] = this_name[0]\n",
    "        elif sum(flag_list) == 0:\n",
    "            # 没有经理全覆盖半年\n",
    "            if sum(flag_list_left) + sum(flag_list_right) == 1:\n",
    "                # 只有一个经理部分覆盖半年\n",
    "                this_name = [jingli_jijin_tmp_info[symbol][i][0] for i in xrange(len(flag_list_left)) if flag_list_left[i] == 1] \\\n",
    "                     +[jingli_jijin_tmp_info[symbol][i][0] for i in xrange(len(flag_list_right)) if flag_list_right[i] == 1]\n",
    "                jingli_jijin_info[symbol][hy] = this_name[0]\n",
    "            elif sum(flag_list_left) + sum(flag_list_right) == 0:\n",
    "                # 没有经理部分覆盖半年\n",
    "                continue\n",
    "            else:\n",
    "                # 多个经理部分覆盖半年\n",
    "                # 首先看覆盖后边界的，先选个最先的，如果在后边界前60天就参与了，那就是他\n",
    "                min_date = half_date_list[i+1]\n",
    "                min_name = u\"多个经理部分覆盖后边界\"\n",
    "                for i_, jingli in enumerate(jingli_jijin_tmp_info[symbol]):\n",
    "                    if jingli[1] <= min_date and flag_list_right[i_]:\n",
    "                        if symbol == debug_symbol and hy == debug_hy:\n",
    "                            print min_name, min_date\n",
    "                        min_name = jingli[0]\n",
    "                        min_date = jingli[1]\n",
    "                # 没有覆盖前半界的，或者后半界参与超过60天\n",
    "                if sum(flag_list_left) == 0 or min_date < (half_date_list[i+1] - datetime.timedelta(days=60)):\n",
    "                    jingli_jijin_info[symbol][hy] = min_name              \n",
    "                else: \n",
    "                    # 然后看覆盖前边界，选个最后的\n",
    "                    max_date = half_date_list[i]\n",
    "                    max_name = u\"多个经理部分覆盖前边界\"\n",
    "                    for i_, jingli in enumerate(jingli_jijin_tmp_info[symbol]):\n",
    "                        if jingli[2] >= max_date and flag_list_left[i_]:\n",
    "                            if symbol == debug_symbol and hy == debug_hy:\n",
    "                                print max_name, max_date\n",
    "                            max_name = jingli[0]\n",
    "                            max_date = jingli[2]\n",
    "                    jingli_jijin_info[symbol][hy] = max_name\n",
    "        else:\n",
    "            # 多个经理全覆盖半年，选择最早的那个\n",
    "            min_date = datetime.datetime.today()\n",
    "            min_name = u\"多个经理部分覆盖全半年\"\n",
    "            for i_, jingli in enumerate(jingli_jijin_tmp_info[symbol]):\n",
    "                if jingli[1] <= min_date and flag_list[i_] == 1:\n",
    "                    min_name = jingli[0]\n",
    "                    min_date = jingli[1]\n",
    "            jingli_jijin_info[symbol][hy] = min_name"
   ]
  },
  {
   "cell_type": "code",
   "execution_count": 42,
   "metadata": {},
   "outputs": [],
   "source": [
    "for hy in sorted(jingli_jijin_info[debug_symbol].keys()):\n",
    "    print hy, jingli_jijin_info[debug_symbol][hy]"
   ]
  },
  {
   "cell_type": "code",
   "execution_count": 38,
   "metadata": {
    "scrolled": true
   },
   "outputs": [],
   "source": [
    "if os.path.exists(u\"经理信息.xlsx\"):\n",
    "    os.remove(u\"经理信息.xlsx\")\n",
    "\n",
    "workbook = xlsxwriter.Workbook(u'经理信息.xlsx')\n",
    "worksheet = workbook.add_worksheet() \n",
    "\n",
    "wt_idx = 0\n",
    "for symbol_ in jingli_jijin_info:\n",
    "    for hy_ in jingli_jijin_info[symbol_]:\n",
    "        hy_left_ = hy_2_datetime(hy_)\n",
    "        hy_right_ = hy_2_datetime(hy_add(hy_)) - datetime.timedelta(days=1)\n",
    "        name_ = jingli_jijin_info[symbol_][hy_]\n",
    "        if name_ in jingli_info:\n",
    "            worksheet.write(wt_idx, 0, symbol_)\n",
    "            worksheet.write(wt_idx, 1, hy_)\n",
    "            worksheet.write(wt_idx, 2, name_)\n",
    "            worksheet.write(wt_idx, 3, jingli_info[name_][1].value)\n",
    "            worksheet.write(wt_idx, 4, jingli_info[name_][2].value)\n",
    "            worksheet.write(wt_idx, 5, jingli_info[name_][3].value)\n",
    "            worksheet.write(wt_idx, 6, jingli_info[name_][4].value)\n",
    "            \n",
    "            \n",
    "            for i_, start_date_ in enumerate(sorted(jingli_jijin_start_date[symbol_][name_])):\n",
    "                if i_ == len(jingli_jijin_start_date[symbol_][name_]) - 1 or \n",
    "                worksheet.write(wt_idx, 7, jingli_jijin_start_date[symbol_][name_])\n",
    "            wt_idx += 1\n",
    "        else:\n",
    "            print u\"can't find %s symbol_ %s hy_ %s\"%(name_, symbol_, hy_)\n",
    "workbook.close()\n",
    "            "
   ]
  },
  {
   "cell_type": "code",
   "execution_count": null,
   "metadata": {
    "collapsed": true
   },
   "outputs": [],
   "source": [
    "########################去除打新#############################\n",
    "sheet_daxin=xlrd.open_workbook(u'减仓加仓.xlsx').sheet_by_index(0)\n",
    "\n",
    "if os.path.exists(u\"减仓加仓1.xlsx\"):\n",
    "    os.remove(u\"减仓加仓1.xlsx\")\n",
    "\n",
    "workbook = xlsxwriter.Workbook(u'减仓加仓1.xlsx')\n",
    "worksheet = workbook.add_worksheet() \n",
    "\n",
    "wt_idx = 0\n",
    "for i in xrange(0, sheet_daxin.nrows):\n",
    "    if i > 0:\n",
    "        listing_date = datetime.datetime.strptime(sheet_daxin.cell(i, 3).value, \"%Y-%m-%d\")\n",
    "        trading_date = sheet_daxin.cell(i, 4).value\n",
    "        if listing_date >= datetime.datetime(year=2015, month=1, day=1):\n",
    "            listing_hy = u\"%dH%d\"%(listing_date.year, listing_date.month/7+1)\n",
    "            if listing_hy == hy_minus(trading_date):\n",
    "                continue\n",
    "    for j in xrange(0, sheet_daxin.ncols):\n",
    "        worksheet.write(wt_idx, j, sheet_daxin.cell(i, j).value)\n",
    "    wt_idx += 1\n",
    "    \n",
    "workbook.close()\n",
    "#####################################################"
   ]
  }
 ],
 "metadata": {
  "kernelspec": {
   "display_name": "Python 2",
   "language": "python",
   "name": "python2"
  },
  "language_info": {
   "codemirror_mode": {
    "name": "ipython",
    "version": 2
   },
   "file_extension": ".py",
   "mimetype": "text/x-python",
   "name": "python",
   "nbconvert_exporter": "python",
   "pygments_lexer": "ipython2",
   "version": "2.7.13"
  }
 },
 "nbformat": 4,
 "nbformat_minor": 2
}
