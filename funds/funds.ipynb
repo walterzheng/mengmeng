{
 "cells": [
  {
   "cell_type": "code",
   "execution_count": 1,
   "metadata": {
    "collapsed": true
   },
   "outputs": [],
   "source": [
    "import os\n",
    "import datetime\n",
    "import xlrd\n",
    "import collections"
   ]
  },
  {
   "cell_type": "code",
   "execution_count": 2,
   "metadata": {},
   "outputs": [
    {
     "data": {
      "text/plain": [
       "'D:\\\\projects\\\\mengmeng\\\\funds'"
      ]
     },
     "execution_count": 2,
     "metadata": {},
     "output_type": "execute_result"
    }
   ],
   "source": [
    "os.curdir\n",
    "os.path.abspath(os.curdir)"
   ]
  },
  {
   "cell_type": "code",
   "execution_count": 17,
   "metadata": {},
   "outputs": [
    {
     "name": "stdout",
     "output_type": "stream",
     "text": [
      "Fund_NAV1.txt 16440 \n",
      "Fund_NAV2.txt 86160 \n",
      "Fund_NAV3.txt 194571 \n",
      "Fund_NAV4.txt 323970 \n",
      "Fund_NAV5.txt 541346 \n",
      "Fund_NAV6.txt 226309 \n",
      "1178\n"
     ]
    }
   ],
   "source": [
    "data=collections.defaultdict(dict)\n",
    "def load_data(filename = 'Fund_NAV1.txt'):\n",
    "    with open(filename, \"r\") as ifid:\n",
    "        line_num = 0\n",
    "        for line in ifid:\n",
    "            if line_num > 0:\n",
    "                try:\n",
    "                    FundClassID, TradingDate, Symbol, AccumulativeNAV = line.replace('\\x00','').strip().split('\\t')\n",
    "                    TradingDate = datetime.datetime.strptime(TradingDate, \"%Y-%m-%d\")\n",
    "                    data[Symbol][TradingDate] = float(AccumulativeNAV)\n",
    "                except ValueError, e:\n",
    "                    print filename, line_num, line.replace('\\x00','').strip()\n",
    "                                  \n",
    "            line_num += 1\n",
    "\n",
    "load_data('Fund_NAV1.txt')\n",
    "load_data('Fund_NAV2.txt')\n",
    "load_data('Fund_NAV3.txt')\n",
    "load_data('Fund_NAV4.txt')\n",
    "load_data('Fund_NAV5.txt')\n",
    "load_data('Fund_NAV6.txt')\n",
    "\n",
    "print len(data)"
   ]
  },
  {
   "cell_type": "code",
   "execution_count": 14,
   "metadata": {},
   "outputs": [
    {
     "name": "stdout",
     "output_type": "stream",
     "text": [
      "1178\n"
     ]
    }
   ],
   "source": [
    "print len(data)"
   ]
  },
  {
   "cell_type": "code",
   "execution_count": null,
   "metadata": {
    "collapsed": true
   },
   "outputs": [],
   "source": [
    "def quater_calc():\n",
    "    quater"
   ]
  },
  {
   "cell_type": "code",
   "execution_count": null,
   "metadata": {
    "collapsed": true
   },
   "outputs": [],
   "source": []
  }
 ],
 "metadata": {
  "kernelspec": {
   "display_name": "Python 2",
   "language": "python",
   "name": "python2"
  },
  "language_info": {
   "codemirror_mode": {
    "name": "ipython",
    "version": 2
   },
   "file_extension": ".py",
   "mimetype": "text/x-python",
   "name": "python",
   "nbconvert_exporter": "python",
   "pygments_lexer": "ipython2",
   "version": "2.7.13"
  }
 },
 "nbformat": 4,
 "nbformat_minor": 2
}
