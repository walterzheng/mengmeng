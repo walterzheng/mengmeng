{
 "cells": [
  {
   "cell_type": "code",
   "execution_count": 40,
   "metadata": {
    "collapsed": true
   },
   "outputs": [],
   "source": [
    "import os\n",
    "import datetime\n",
    "import xlrd\n",
    "import collections\n",
    "import math"
   ]
  },
  {
   "cell_type": "code",
   "execution_count": 50,
   "metadata": {
    "collapsed": true
   },
   "outputs": [],
   "source": [
    "def add_years(s, p):\n",
    "    ''' 在日期s上加上p年，如果日期不存在，顺延到下个月1号 '''\n",
    "    if s.month != 2 or s.day != 29:\n",
    "        return datetime.datetime(year=s.year+p, month=s.month, day=s.day)\n",
    "    else:\n",
    "        try:\n",
    "            rs = datetime.datetime(year=s.year+p, month=2, day=29)\n",
    "        except ValueError, e:\n",
    "            rs = datetime.datetime(year=s.year+p, month=3, day=1)\n",
    "        return rs\n",
    "\n",
    "def add_months(s, p):\n",
    "    ''' 在日期s上加上p个月，如果日期不存在，顺延到下个月1号 '''\n",
    "    p_years = s.year + p / 12\n",
    "    p_months = s.month + p % 12 \n",
    "    if p_months > 12:\n",
    "        p_years += 1\n",
    "        p_months = p_months % 12\n",
    "    \n",
    "    try:\n",
    "        rs = datetime.datetime(p_years, p_months, s.day)\n",
    "    except ValueError, e:\n",
    "        if p_months == 12:\n",
    "            rs = datetime.datetime(p_years + 1, 1, 1)\n",
    "        else:\n",
    "            rs = datetime.datetime(p_years, p_months+1, 1)\n",
    "    return rs"
   ]
  },
  {
   "cell_type": "code",
   "execution_count": 41,
   "metadata": {},
   "outputs": [],
   "source": [
    "Rt_data=collections.defaultdict(dict) #基金复权单位净值\n",
    "Rm_data=collections.defaultdict(dict) #指数价格\n",
    "\n",
    "Rt=None\n",
    "Rf=None\n",
    "Rm=None\n",
    "\n",
    "BEGIN_YEAR = 2004\n",
    "END_YEAR = 2018"
   ]
  },
  {
   "cell_type": "code",
   "execution_count": 42,
   "metadata": {
    "scrolled": true
   },
   "outputs": [],
   "source": [
    "def Rt_load_data(filename = 'Fund_NAV1.txt'):\n",
    "    '''加载基金复权单位净值文件'''\n",
    "    with open(filename, \"r\") as ifid:\n",
    "        line_num = 0\n",
    "        for line in ifid:\n",
    "            if line_num > 0 and len(line) > 5:\n",
    "                try:\n",
    "                    FundClassID, TradingDate, Symbol, AccumulativeNAV = line.replace('\\x00','').strip().split('\\t')\n",
    "                    TradingDate = datetime.datetime.strptime(TradingDate, \"%Y-%m-%d\")\n",
    "                    if TradingDate >= datetime.datetime(BEGIN_YEAR, 1, 1) and TradingDate < datetime.datetime(END_YEAR, 1, 1):\n",
    "                        Rt_data[Symbol][TradingDate] = float(AccumulativeNAV)\n",
    "                except ValueError, e:\n",
    "                    print filename, line_num, line.replace('\\x00','').strip()\n",
    "                                  \n",
    "            line_num += 1\n",
    "            \n",
    "def Rm_load_data(filename=\"IDX_Idxtrd1.txt\"):\n",
    "    '''加载指数价格文件'''\n",
    "    with open(filename, \"r\") as ifid:\n",
    "        line_num = 0\n",
    "        for line in ifid:\n",
    "            if line_num > 0 and len(line) > 5:\n",
    "                try:\n",
    "                    Indexcd, Idxtrd01, Idxtrd05 = line.replace('\\x00','').strip().split('\\t')\n",
    "                    Idxtrd01 = datetime.datetime.strptime(Idxtrd01, \"%Y-%m-%d\")\n",
    "                    if Idxtrd01 >= datetime.datetime(BEGIN_YEAR, 1, 1) and Idxtrd01 < datetime.datetime(END_YEAR, 1, 1):\n",
    "                        Rm_data[Indexcd][Idxtrd01] = float(Idxtrd05)\n",
    "                except ValueError, e:\n",
    "                    print filename, line_num, line.replace('\\x00','').strip()\n",
    "                                  \n",
    "            line_num += 1"
   ]
  },
  {
   "cell_type": "code",
   "execution_count": 43,
   "metadata": {},
   "outputs": [],
   "source": [
    "def calc_earning_ratio(data):\n",
    "    '''计算基金或者市场基准收益率'''\n",
    "    rtn = collections.defaultdict(dict)\n",
    "    log = open(\"log_calc_earning_ratio.txt\", \"a\")\n",
    "    for id in data:\n",
    "        id_data_num = 0\n",
    "        pre_date = None\n",
    "        pre_value = 0.0\n",
    "        for cur_date in sorted(data[id].keys()):\n",
    "            value = data[id][cur_date]\n",
    "            if id_data_num > 0:\n",
    "                rtn[id][cur_date] = math.log(value) - math.log(pre_value)\n",
    "                if cur_date - pre_date > datetime.timedelta(days=10):\n",
    "                    log.write(\"%s %d %s %f 的前一条数据是 %s %f，疑似有数据丢失，请注意\\n\" % (id, (cur_date - pre_date).days, \n",
    "                          cur_date.strftime(\"%Y-%m-%d\"), value, pre_date.strftime(\"%Y-%m-%d\"), pre_value))\n",
    "            id_data_num += 1\n",
    "            pre_date = cur_date\n",
    "            pre_value = value\n",
    "    log.close()\n",
    "    return rtn\n",
    "\n",
    "def calc_quater_sigma(data, dump_filename=\"quater_sigma.txt\"):\n",
    "    '''计算季度波动率'''\n",
    "    rtn = collections.defaultdict(dict)\n",
    "    ofid = open(dump_filename, \"w\")\n",
    "    quater_date = [datetime.datetime(v1,v2,1) for v1 in xrange(BEGIN_YEAR, END_YEAR) for v2 in xrange(1,12,3)]\n",
    "    quater_date.append(add_months(quater_date[-1], 4))\n",
    "    for id in data:\n",
    "        \n",
    "    ofid.close()"
   ]
  },
  {
   "cell_type": "code",
   "execution_count": 47,
   "metadata": {
    "collapsed": true
   },
   "outputs": [],
   "source": [
    "def load_data():\n",
    "    Rm_load_data(\"IDX_Idxtrd1.txt\")\n",
    "    Rm_load_data(\"IDX_Idxtrd2.txt\")\n",
    "    Rm_load_data(\"IDX_Idxtrd3.txt\")\n",
    "    Rm_load_data(\"IDX_Idxtrd4.txt\")\n",
    "\n",
    "    Rt_load_data('Fund_NAV1.txt')\n",
    "    Rt_load_data('Fund_NAV2.txt')\n",
    "    Rt_load_data('Fund_NAV3.txt')\n",
    "    Rt_load_data('Fund_NAV4.txt')\n",
    "    Rt_load_data('Fund_NAV5.txt')\n",
    "    Rt_load_data('Fund_NAV6.txt')\n",
    "\n",
    "    print \"共加载%d只基金的%d条累计收益记录\"%(len(Rt_data), sum(len(var) for var in Rt_data.itervalues()))\n",
    "    print \"共加载%d只指数的%d条价格记录\"%(len(Rm_data), sum(len(var) for var in Rm_data.itervalues()))\n",
    "\n",
    "def calc():\n",
    "    if os.path.exists(\"log_calc_earning_ratio.txt\"):\n",
    "        os.remove(\"log_calc_earning_ratio.txt\")\n",
    "    Rt = calc_earning_ratio(Rt_data)\n",
    "    Rm = calc_earning_ratio(Rm_data)\n",
    "\n",
    "    print \"共加载%d只基金的%d天收益率\"%(len(Rt), sum(len(var) for var in Rt.itervalues()))\n",
    "    print \"共加载%d只指数的%d天收益率\"%(len(Rm), sum(len(var) for var in Rm.itervalues()))\n",
    "    \n",
    "def main():\n",
    "    load_data()\n",
    "    calc()"
   ]
  },
  {
   "cell_type": "code",
   "execution_count": 48,
   "metadata": {},
   "outputs": [
    {
     "name": "stdout",
     "output_type": "stream",
     "text": [
      "共加载1178只基金的1382860条累计收益记录\n",
      "共加载3只指数的10338条价格记录\n",
      "共加载1178只基金的1381682天收益率\n",
      "共加载3只指数的10335天收益率\n"
     ]
    }
   ],
   "source": []
  },
  {
   "cell_type": "code",
   "execution_count": 39,
   "metadata": {},
   "outputs": [],
   "source": [
    "load_data()"
   ]
  },
  {
   "cell_type": "code",
   "execution_count": 49,
   "metadata": {},
   "outputs": [
    {
     "name": "stdout",
     "output_type": "stream",
     "text": [
      "共加载1178只基金的1381682天收益率\n",
      "共加载3只指数的10335天收益率\n"
     ]
    }
   ],
   "source": [
    "calc()"
   ]
  },
  {
   "cell_type": "code",
   "execution_count": null,
   "metadata": {
    "collapsed": true
   },
   "outputs": [],
   "source": []
  }
 ],
 "metadata": {
  "kernelspec": {
   "display_name": "Python 2",
   "language": "python",
   "name": "python2"
  },
  "language_info": {
   "codemirror_mode": {
    "name": "ipython",
    "version": 2
   },
   "file_extension": ".py",
   "mimetype": "text/x-python",
   "name": "python",
   "nbconvert_exporter": "python",
   "pygments_lexer": "ipython2",
   "version": "2.7.13"
  }
 },
 "nbformat": 4,
 "nbformat_minor": 2
}
